{
 "cells": [
  {
   "cell_type": "markdown",
   "id": "a18ec6cc",
   "metadata": {},
   "source": [
    "# SETS"
   ]
  },
  {
   "cell_type": "markdown",
   "id": "ab875966",
   "metadata": {},
   "source": [
    "- Sequence DT\n",
    "- Represented by \"{ }\"\n",
    "- Unordered DT\n",
    "- won't support duplicates.\n",
    "- MUTABLE DT.\n",
    "- We can't access values from set.\n",
    "- We can't reassign a new value."
   ]
  },
  {
   "cell_type": "code",
   "execution_count": 2,
   "id": "5b1376f4",
   "metadata": {},
   "outputs": [
    {
     "name": "stdout",
     "output_type": "stream",
     "text": [
      "{34.56, 'kiran', 'dilip', 'laxmi', 'sai', 56, 89, 90.34}\n",
      "<class 'set'>\n"
     ]
    }
   ],
   "source": [
    "s = {\"sai\",89,34.56,\"dilip\",\"laxmi\",89,\"dilip\",\"kiran\",56,90.34}\n",
    "print(s)\n",
    "print(type(s))"
   ]
  },
  {
   "cell_type": "code",
   "execution_count": 4,
   "id": "2fbe7121",
   "metadata": {},
   "outputs": [
    {
     "name": "stdout",
     "output_type": "stream",
     "text": [
      "set()\n",
      "<class 'set'>\n"
     ]
    }
   ],
   "source": [
    "#create an empty set\n",
    "\n",
    "s1 = set()\n",
    "print(s1)\n",
    "print(type(s1))"
   ]
  },
  {
   "cell_type": "code",
   "execution_count": 8,
   "id": "260e87ab",
   "metadata": {},
   "outputs": [
    {
     "name": "stdout",
     "output_type": "stream",
     "text": [
      "{34.56, 'kiran', 'dilip', 'laxmi', 'sai', 56, 89, 90.34}\n",
      "8\n"
     ]
    }
   ],
   "source": [
    "#len()\n",
    "\n",
    "s = {\"sai\",89,34.56,\"dilip\",\"laxmi\",89,\"dilip\",\"kiran\",56,90.34}\n",
    "print(s)\n",
    "print(len(s))"
   ]
  },
  {
   "cell_type": "code",
   "execution_count": 11,
   "id": "0c425af7",
   "metadata": {},
   "outputs": [],
   "source": [
    "#count() ->X\n",
    "#index() ->X"
   ]
  },
  {
   "cell_type": "code",
   "execution_count": 12,
   "id": "da200b23",
   "metadata": {},
   "outputs": [
    {
     "name": "stdout",
     "output_type": "stream",
     "text": [
      "2\n",
      "90\n",
      "315\n"
     ]
    }
   ],
   "source": [
    "s1 = {23,11,45,22,78,44,2,90}\n",
    "\n",
    "#min()\n",
    "print(min(s1))\n",
    "\n",
    "#max()\n",
    "print(max(s1))\n",
    "\n",
    "#sum()\n",
    "print(sum(s1))"
   ]
  },
  {
   "cell_type": "code",
   "execution_count": 13,
   "id": "6d75a1ab",
   "metadata": {},
   "outputs": [
    {
     "name": "stdout",
     "output_type": "stream",
     "text": [
      "original set: {34.56, 'kiran', 'dilip', 'laxmi', 'sai', 56, 89, 90.34}\n",
      "After adding: {34.56, 'kiran', 'dilip', 'laxmi', 'nandini', 'sai', 56, 89, 90.34}\n"
     ]
    }
   ],
   "source": [
    "#add one new value into the set-> v_n.add(new_value)\n",
    "\n",
    "s = {\"sai\",89,34.56,\"dilip\",\"laxmi\",89,\"dilip\",\"kiran\",56,90.34}\n",
    "print(\"original set:\",s)\n",
    "\n",
    "s.add(\"nandini\")\n",
    "print(\"After adding:\",s)"
   ]
  },
  {
   "cell_type": "code",
   "execution_count": 14,
   "id": "98f3c18a",
   "metadata": {},
   "outputs": [
    {
     "name": "stdout",
     "output_type": "stream",
     "text": [
      "original set: {34.56, 'kiran', 'dilip', 'laxmi', 'nandini', 'sai', 56, 89, 90.34}\n",
      "After adding: {34.56, 100, 'kiran', 'dilip', 'laxmi', 23.67, 'nandini', 'sai', 56, 89, 90.34, 'farooq'}\n"
     ]
    }
   ],
   "source": [
    "#add multiple new value into the set-> v_n.update({new_value1,new_value2------})\n",
    "\n",
    "print(\"original set:\",s)\n",
    "\n",
    "s.update({\"farooq\",23.67,100})\n",
    "print(\"After adding:\",s)"
   ]
  },
  {
   "cell_type": "code",
   "execution_count": 15,
   "id": "d89f5ee8",
   "metadata": {},
   "outputs": [
    {
     "name": "stdout",
     "output_type": "stream",
     "text": [
      "original set: {34.56, 100, 'kiran', 'dilip', 'laxmi', 23.67, 'nandini', 'sai', 56, 89, 90.34, 'farooq'}\n",
      "34.56\n",
      "After removing: {100, 'kiran', 'dilip', 'laxmi', 23.67, 'nandini', 'sai', 56, 89, 90.34, 'farooq'}\n"
     ]
    }
   ],
   "source": [
    "#Delete values from the set\n",
    "#pop()-> return removed value.Removes first value from the set\n",
    "\n",
    "print(\"original set:\",s)\n",
    "\n",
    "print(s.pop())\n",
    "print(\"After removing:\",s)"
   ]
  },
  {
   "cell_type": "code",
   "execution_count": 17,
   "id": "ebb7bb79",
   "metadata": {},
   "outputs": [
    {
     "name": "stdout",
     "output_type": "stream",
     "text": [
      "original set: {100, 'kiran', 'dilip', 'laxmi', 23.67, 'nandini', 'sai', 56, 89, 90.34, 'farooq'}\n",
      "After removing: {100, 'kiran', 'dilip', 'laxmi', 'nandini', 'sai', 56, 89, 90.34, 'farooq'}\n"
     ]
    }
   ],
   "source": [
    "#remove()-> v_n.remove(existing_value)\n",
    "\n",
    "print(\"original set:\",s)\n",
    "\n",
    "s.remove(23.67)\n",
    "print(\"After removing:\",s)"
   ]
  },
  {
   "cell_type": "code",
   "execution_count": 18,
   "id": "5bd904c2",
   "metadata": {},
   "outputs": [
    {
     "name": "stdout",
     "output_type": "stream",
     "text": [
      "original set: {100, 'kiran', 'dilip', 'laxmi', 'nandini', 'sai', 56, 89, 90.34, 'farooq'}\n",
      "After removing: {100, 'dilip', 'laxmi', 'nandini', 'sai', 56, 89, 90.34, 'farooq'}\n"
     ]
    }
   ],
   "source": [
    "#discard()-> v_n.discard(existing_value)\n",
    "\n",
    "print(\"original set:\",s)\n",
    "\n",
    "s.discard(\"kiran\")\n",
    "print(\"After removing:\",s)"
   ]
  },
  {
   "cell_type": "code",
   "execution_count": 19,
   "id": "93aec68d",
   "metadata": {},
   "outputs": [
    {
     "name": "stdout",
     "output_type": "stream",
     "text": [
      "original set: {100, 'dilip', 'laxmi', 'nandini', 'sai', 56, 89, 90.34, 'farooq'}\n"
     ]
    },
    {
     "ename": "KeyError",
     "evalue": "'girish'",
     "output_type": "error",
     "traceback": [
      "\u001b[1;31m---------------------------------------------------------------------------\u001b[0m",
      "\u001b[1;31mKeyError\u001b[0m                                  Traceback (most recent call last)",
      "Input \u001b[1;32mIn [19]\u001b[0m, in \u001b[0;36m<cell line: 3>\u001b[1;34m()\u001b[0m\n\u001b[0;32m      1\u001b[0m \u001b[38;5;28mprint\u001b[39m(\u001b[38;5;124m\"\u001b[39m\u001b[38;5;124moriginal set:\u001b[39m\u001b[38;5;124m\"\u001b[39m,s)\n\u001b[1;32m----> 3\u001b[0m \u001b[43ms\u001b[49m\u001b[38;5;241;43m.\u001b[39;49m\u001b[43mremove\u001b[49m\u001b[43m(\u001b[49m\u001b[38;5;124;43m\"\u001b[39;49m\u001b[38;5;124;43mgirish\u001b[39;49m\u001b[38;5;124;43m\"\u001b[39;49m\u001b[43m)\u001b[49m\n\u001b[0;32m      4\u001b[0m \u001b[38;5;28mprint\u001b[39m(\u001b[38;5;124m\"\u001b[39m\u001b[38;5;124mAfter removing:\u001b[39m\u001b[38;5;124m\"\u001b[39m,s)\n",
      "\u001b[1;31mKeyError\u001b[0m: 'girish'"
     ]
    }
   ],
   "source": [
    "print(\"original set:\",s)\n",
    "\n",
    "s.remove(\"girish\")\n",
    "print(\"After removing:\",s)"
   ]
  },
  {
   "cell_type": "code",
   "execution_count": 20,
   "id": "a1920d07",
   "metadata": {},
   "outputs": [
    {
     "name": "stdout",
     "output_type": "stream",
     "text": [
      "original set: {100, 'dilip', 'laxmi', 'nandini', 'sai', 56, 89, 90.34, 'farooq'}\n",
      "After removing: {100, 'dilip', 'laxmi', 'nandini', 'sai', 56, 89, 90.34, 'farooq'}\n"
     ]
    }
   ],
   "source": [
    "print(\"original set:\",s)\n",
    "\n",
    "s.discard(\"girish\")\n",
    "print(\"After removing:\",s)"
   ]
  },
  {
   "cell_type": "code",
   "execution_count": 21,
   "id": "7c09145a",
   "metadata": {},
   "outputs": [
    {
     "name": "stdout",
     "output_type": "stream",
     "text": [
      "original set: {100, 'dilip', 'laxmi', 'nandini', 'sai', 56, 89, 90.34, 'farooq'}\n",
      "After removing: set()\n"
     ]
    }
   ],
   "source": [
    "#clear()\n",
    "\n",
    "print(\"original set:\",s)\n",
    "\n",
    "s.clear()\n",
    "print(\"After removing:\",s)  #set()"
   ]
  },
  {
   "cell_type": "code",
   "execution_count": 22,
   "id": "e5fc9646",
   "metadata": {},
   "outputs": [
    {
     "name": "stdout",
     "output_type": "stream",
     "text": [
      "original set: set()\n"
     ]
    },
    {
     "ename": "NameError",
     "evalue": "name 's' is not defined",
     "output_type": "error",
     "traceback": [
      "\u001b[1;31m---------------------------------------------------------------------------\u001b[0m",
      "\u001b[1;31mNameError\u001b[0m                                 Traceback (most recent call last)",
      "Input \u001b[1;32mIn [22]\u001b[0m, in \u001b[0;36m<cell line: 5>\u001b[1;34m()\u001b[0m\n\u001b[0;32m      2\u001b[0m \u001b[38;5;28mprint\u001b[39m(\u001b[38;5;124m\"\u001b[39m\u001b[38;5;124moriginal set:\u001b[39m\u001b[38;5;124m\"\u001b[39m,s)\n\u001b[0;32m      4\u001b[0m \u001b[38;5;28;01mdel\u001b[39;00m s\n\u001b[1;32m----> 5\u001b[0m \u001b[38;5;28mprint\u001b[39m(\u001b[38;5;124m\"\u001b[39m\u001b[38;5;124mAfter removing:\u001b[39m\u001b[38;5;124m\"\u001b[39m,\u001b[43ms\u001b[49m)\n",
      "\u001b[1;31mNameError\u001b[0m: name 's' is not defined"
     ]
    }
   ],
   "source": [
    "#del -> del v_n\n",
    "print(\"original set:\",s)\n",
    "\n",
    "del s\n",
    "print(\"After removing:\",s)"
   ]
  },
  {
   "cell_type": "code",
   "execution_count": 23,
   "id": "e9829b4e",
   "metadata": {},
   "outputs": [
    {
     "name": "stdout",
     "output_type": "stream",
     "text": [
      "34.56 kiran dilip laxmi sai 56 89 90.34 "
     ]
    }
   ],
   "source": [
    "#iterate the set\n",
    "\n",
    "s = {\"sai\",89,34.56,\"dilip\",\"laxmi\",89,\"dilip\",\"kiran\",56,90.34}\n",
    "\n",
    "for i in s:\n",
    "    print(i,end=\" \")"
   ]
  },
  {
   "cell_type": "code",
   "execution_count": 30,
   "id": "e83cf6bb",
   "metadata": {},
   "outputs": [
    {
     "name": "stdout",
     "output_type": "stream",
     "text": [
      "{67, 'pavan', 'kiran', 'sai', 12.34}\n",
      "{67, 'pavan', 'kiran', 'sai', 12.34}\n"
     ]
    }
   ],
   "source": [
    "#copy()\n",
    "s = {\"pavan\",\"sai\",67,12.34,\"kiran\"}  #original\n",
    "s1 = s.copy()  #duplicated\n",
    "print(s)\n",
    "print(s1)"
   ]
  },
  {
   "cell_type": "code",
   "execution_count": 32,
   "id": "0897bccc",
   "metadata": {},
   "outputs": [
    {
     "name": "stdout",
     "output_type": "stream",
     "text": [
      "{67, 'pavan', 'kiran', 'Kiran', 'sai', 12.34}\n"
     ]
    }
   ],
   "source": [
    "s1.add(\"Kiran\")\n",
    "print(s1)"
   ]
  },
  {
   "cell_type": "code",
   "execution_count": 33,
   "id": "0ad6c043",
   "metadata": {},
   "outputs": [
    {
     "name": "stdout",
     "output_type": "stream",
     "text": [
      "{67, 'pavan', 'kiran', 'sai', 12.34}\n"
     ]
    }
   ],
   "source": [
    "print(s)"
   ]
  },
  {
   "cell_type": "markdown",
   "id": "dcd3d1a9",
   "metadata": {},
   "source": [
    "# Set Functions/Set Operators"
   ]
  },
  {
   "cell_type": "code",
   "execution_count": 25,
   "id": "daaa146c",
   "metadata": {},
   "outputs": [
    {
     "name": "stdout",
     "output_type": "stream",
     "text": [
      "{34, 12, 45.78, 45, 'laxmi', 56, 90.78, 'hari'}\n",
      "{'laxmi', 56, 12, 45.78, 'hari'}\n",
      "{34, 'laxmi', 90.78, 12, 45}\n"
     ]
    }
   ],
   "source": [
    "#union() -> create new set by joining given two sets where it accepts unique values.\n",
    "#v_n1.union(v_n2)\n",
    "\n",
    "s1 = {12,\"laxmi\",56,\"hari\",45.78}\n",
    "s2 = {34,\"laxmi\",45,90.78,12}\n",
    "\n",
    "s3 = s1.union(s2)\n",
    "print(s3)\n",
    "print(s1)\n",
    "print(s2)"
   ]
  },
  {
   "cell_type": "code",
   "execution_count": 26,
   "id": "7391a875",
   "metadata": {},
   "outputs": [
    {
     "name": "stdout",
     "output_type": "stream",
     "text": [
      "{'laxmi', 12}\n",
      "{'laxmi', 56, 12, 45.78, 'hari'}\n",
      "{34, 'laxmi', 90.78, 12, 45}\n"
     ]
    }
   ],
   "source": [
    "#intersection() -> returns common values from two sets\n",
    "#v_n1.intersection(v_n2)\n",
    "\n",
    "s1 = {12,\"laxmi\",56,\"hari\",45.78}\n",
    "s2 = {34,\"laxmi\",45,90.78,12}\n",
    "\n",
    "s3 = s2.intersection(s1)\n",
    "print(s3)\n",
    "print(s1)\n",
    "print(s2)"
   ]
  },
  {
   "cell_type": "code",
   "execution_count": 28,
   "id": "a7ba9876",
   "metadata": {},
   "outputs": [
    {
     "name": "stdout",
     "output_type": "stream",
     "text": [
      "{34, 45, 90.78}\n",
      "{56, 45.78, 'hari'}\n",
      "{'laxmi', 56, 12, 45.78, 'hari'}\n",
      "{34, 'laxmi', 90.78, 12, 45}\n"
     ]
    }
   ],
   "source": [
    "#difference() -> returns unique value from the first sets(left side)\n",
    "#v_n1.difference(v_n2)\n",
    "\n",
    "s1 = {12,\"laxmi\",56,\"hari\",45.78}\n",
    "s2 = {34,\"laxmi\",45,90.78,12}\n",
    "\n",
    "s3 = s2.difference(s1)\n",
    "s4 = s1.difference(s2)\n",
    "print(s3)\n",
    "print(s4)\n",
    "print(s1)\n",
    "print(s2)"
   ]
  },
  {
   "cell_type": "code",
   "execution_count": 29,
   "id": "11a4dcd4",
   "metadata": {},
   "outputs": [
    {
     "name": "stdout",
     "output_type": "stream",
     "text": [
      "{34, 45.78, 56, 90.78, 45, 'hari'}\n",
      "{'laxmi', 56, 12, 45.78, 'hari'}\n",
      "{34, 'laxmi', 90.78, 12, 45}\n"
     ]
    }
   ],
   "source": [
    "#symmetric_difference() -> returns unique value from the two sets\n",
    "#v_n1.symmetric_difference(v_n2)\n",
    "\n",
    "s1 = {12,\"laxmi\",56,\"hari\",45.78}\n",
    "s2 = {34,\"laxmi\",45,90.78,12}\n",
    "\n",
    "s3 = s1.symmetric_difference(s2)\n",
    "\n",
    "print(s3)\n",
    "\n",
    "print(s1)\n",
    "print(s2)"
   ]
  },
  {
   "cell_type": "markdown",
   "id": "3c9d610f",
   "metadata": {},
   "source": [
    "# Frozenset"
   ]
  },
  {
   "cell_type": "markdown",
   "id": "4218b035",
   "metadata": {},
   "source": [
    "- unordered DT\n",
    "- won't support DT\n",
    "- {}\n",
    "- Immutable DT.\n",
    "- To create a frozenset, we use \"frozenset()\"."
   ]
  },
  {
   "cell_type": "code",
   "execution_count": 34,
   "id": "a77ecd1f",
   "metadata": {},
   "outputs": [
    {
     "name": "stdout",
     "output_type": "stream",
     "text": [
      "frozenset({67, 90, 'dilip', 'jai'})\n",
      "<class 'frozenset'>\n"
     ]
    }
   ],
   "source": [
    "fs = frozenset([90,\"dilip\",\"jai\",\"dilip\",90,\"jai\",67])\n",
    "print(fs)\n",
    "print(type(fs))"
   ]
  },
  {
   "cell_type": "code",
   "execution_count": 36,
   "id": "4e0dd076",
   "metadata": {},
   "outputs": [
    {
     "name": "stdout",
     "output_type": "stream",
     "text": [
      "frozenset({67, 90, 'dilip', 'jai'})\n",
      "4\n"
     ]
    }
   ],
   "source": [
    "#len()\n",
    "\n",
    "fs = frozenset([90,\"dilip\",\"jai\",\"dilip\",90,\"jai\",67])\n",
    "print(fs)\n",
    "print(len(fs))"
   ]
  },
  {
   "cell_type": "code",
   "execution_count": 38,
   "id": "af85ea82",
   "metadata": {},
   "outputs": [
    {
     "name": "stdout",
     "output_type": "stream",
     "text": [
      "frozenset({33, 34, 12, 45, 56, 89})\n",
      "12\n",
      "89\n",
      "269\n"
     ]
    }
   ],
   "source": [
    "fs1 = frozenset((45,12,34,89,56,33))\n",
    "print(fs1)\n",
    "\n",
    "#min()\n",
    "print(min(fs1))\n",
    "\n",
    "#max()\n",
    "print(max(fs1))\n",
    "\n",
    "#sum\n",
    "print(sum(fs1))"
   ]
  },
  {
   "cell_type": "code",
   "execution_count": 39,
   "id": "ee5344df",
   "metadata": {},
   "outputs": [
    {
     "name": "stdout",
     "output_type": "stream",
     "text": [
      "frozenset({'laxmi', 12})\n",
      "frozenset({'laxmi', 56, 12, 45.78, 'hari'})\n",
      "frozenset({34, 'laxmi', 90.78, 12, 45})\n"
     ]
    }
   ],
   "source": [
    "#intersection() -> returns common values from two sets\n",
    "#v_n1.intersection(v_n2)\n",
    "\n",
    "s1 = frozenset({12,\"laxmi\",56,\"hari\",45.78})\n",
    "s2 = frozenset({34,\"laxmi\",45,90.78,12})\n",
    "\n",
    "s3 = s2.intersection(s1)\n",
    "print(s3)\n",
    "print(s1)\n",
    "print(s2)"
   ]
  },
  {
   "cell_type": "code",
   "execution_count": null,
   "id": "6a2500e4",
   "metadata": {},
   "outputs": [],
   "source": []
  }
 ],
 "metadata": {
  "kernelspec": {
   "display_name": "Python 3 (ipykernel)",
   "language": "python",
   "name": "python3"
  },
  "language_info": {
   "codemirror_mode": {
    "name": "ipython",
    "version": 3
   },
   "file_extension": ".py",
   "mimetype": "text/x-python",
   "name": "python",
   "nbconvert_exporter": "python",
   "pygments_lexer": "ipython3",
   "version": "3.10.4"
  }
 },
 "nbformat": 4,
 "nbformat_minor": 5
}
